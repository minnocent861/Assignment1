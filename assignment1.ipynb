{
 "cells": [
  {
   "cell_type": "code",
   "execution_count": 1,
   "id": "5af622ef-b101-41a1-977b-38cfe6ce060b",
   "metadata": {},
   "outputs": [
    {
     "name": "stdout",
     "output_type": "stream",
     "text": [
      "Hello world\n"
     ]
    }
   ],
   "source": [
    "print(\"Hello world\")"
   ]
  },
  {
   "cell_type": "code",
   "execution_count": 15,
   "id": "4e3ab002-b5db-4c2b-b3f6-3ee42b5408ce",
   "metadata": {},
   "outputs": [
    {
     "data": {
      "text/plain": [
       "3600"
      ]
     },
     "execution_count": 15,
     "metadata": {},
     "output_type": "execute_result"
    }
   ],
   "source": [
    "###3.2 Assign the result from the previous task (seconds in an hour) to a variable called seconds_per_hour.\n",
    "second_in_hour=60*60\n",
    "second_in_hour\n"
   ]
  },
  {
   "cell_type": "code",
   "execution_count": 41,
   "id": "16890acb-fdcd-4913-80a5-837da31b9896",
   "metadata": {},
   "outputs": [
    {
     "name": "stdout",
     "output_type": "stream",
     "text": [
      "seconds_per_hour= 3600\n"
     ]
    }
   ],
   "source": [
    "###Assign the result from the previous task (seconds in an hour) to a variable called seconds_per_hour.\n",
    "seconds_per_hour=second_in_hour\n",
    "print(\"seconds_per_hour=\",seconds_per_hour)"
   ]
  },
  {
   "cell_type": "code",
   "execution_count": 43,
   "id": "e9e4244c-4752-4a81-92a6-3091238a46ef",
   "metadata": {},
   "outputs": [
    {
     "data": {
      "text/plain": [
       "86400"
      ]
     },
     "execution_count": 43,
     "metadata": {},
     "output_type": "execute_result"
    }
   ],
   "source": [
    "#How many seconds are in a day? Use your seconds_per_hour variable.\n",
    "seconds_in_a_day = seconds_per_hour*24\n",
    "seconds_in_a_day"
   ]
  },
  {
   "cell_type": "code",
   "execution_count": 45,
   "id": "b010722b-d209-49ff-b415-5a0bf6b06135",
   "metadata": {},
   "outputs": [
    {
     "name": "stdout",
     "output_type": "stream",
     "text": [
      "second_per_day= 86400\n"
     ]
    }
   ],
   "source": [
    "#Calculate seconds per day again, but this time save the result in a variable called seconds_per_day.\n",
    "second_per_day = seconds_in_a_day\n",
    "print(\"second_per_day=\",second_per_day)\n"
   ]
  },
  {
   "cell_type": "code",
   "execution_count": 47,
   "id": "5110e175-3488-4010-bec1-d6f991703960",
   "metadata": {},
   "outputs": [
    {
     "data": {
      "text/plain": [
       "24.0"
      ]
     },
     "execution_count": 47,
     "metadata": {},
     "output_type": "execute_result"
    }
   ],
   "source": [
    "#3.5 Divide seconds_per_day by seconds_per_hour. Use floating-point (/) division.\n",
    "second_per_day/seconds_per_hour"
   ]
  },
  {
   "cell_type": "code",
   "execution_count": 49,
   "id": "902365f2-768e-4bbf-b976-374bc6759b9a",
   "metadata": {},
   "outputs": [
    {
     "data": {
      "text/plain": [
       "24"
      ]
     },
     "execution_count": 49,
     "metadata": {},
     "output_type": "execute_result"
    }
   ],
   "source": [
    "#Divide seconds_per_day by seconds_per_hour, using integer (//) division. \n",
    "second_per_day//seconds_per_hour"
   ]
  },
  {
   "cell_type": "code",
   "execution_count": 53,
   "id": "62a5b8f5-cfcd-44f5-94c7-28cfc77eedf3",
   "metadata": {},
   "outputs": [
    {
     "name": "stdout",
     "output_type": "stream",
     "text": [
      "No it did not\n"
     ]
    }
   ],
   "source": [
    "#Did this number agree with the floating-point value from the previous question, aside from the final .0?\n",
    "print(\"No it did not\")"
   ]
  },
  {
   "cell_type": "code",
   "execution_count": null,
   "id": "bb5616b8-0ab8-4e72-ad3c-0c01386e4d54",
   "metadata": {},
   "outputs": [],
   "source": []
  }
 ],
 "metadata": {
  "kernelspec": {
   "display_name": "Python 3 (ipykernel)",
   "language": "python",
   "name": "python3"
  },
  "language_info": {
   "codemirror_mode": {
    "name": "ipython",
    "version": 3
   },
   "file_extension": ".py",
   "mimetype": "text/x-python",
   "name": "python",
   "nbconvert_exporter": "python",
   "pygments_lexer": "ipython3",
   "version": "3.12.7"
  }
 },
 "nbformat": 4,
 "nbformat_minor": 5
}
